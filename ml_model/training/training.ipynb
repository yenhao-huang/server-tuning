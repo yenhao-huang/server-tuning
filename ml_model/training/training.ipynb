{
 "cells": [
  {
   "cell_type": "markdown",
   "metadata": {
    "id": "DzzFrLBFEUa8"
   },
   "source": [
    "# **Training Code**\n",
    "\n",
    "Train a multi-class classification model to identify storage I/O behaviors of a server workload as one of the following determined I/O patterns:\n",
    "\n",
    "*   File Servers\n",
    "*   OLTP\n",
    "*   Streaming Reads\n",
    "*   Streaming Writes\n",
    "*   Web Servers\n",
    "*   Workstations"
   ]
  },
  {
   "cell_type": "markdown",
   "metadata": {
    "id": "NGF4fW_SmukH"
   },
   "source": [
    "## Mount Storage"
   ]
  },
  {
   "cell_type": "markdown",
   "metadata": {
    "id": "fY5k0RE1mwpO"
   },
   "source": [
    "Mount Google Drive to load model and dataset afterward."
   ]
  },
  {
   "cell_type": "code",
   "execution_count": 2,
   "metadata": {
    "colab": {
     "base_uri": "https://localhost:8080/"
    },
    "executionInfo": {
     "elapsed": 24035,
     "status": "ok",
     "timestamp": 1699092557492,
     "user": {
      "displayName": "高聖傑",
      "userId": "06072156579476192158"
     },
     "user_tz": -480
    },
    "id": "3OmD02aImQs6",
    "outputId": "c4804042-26f2-47e9-8094-121e98b9ab6f"
   },
   "outputs": [
    {
     "name": "stdout",
     "output_type": "stream",
     "text": [
      "Mounted at /content/drive\n"
     ]
    }
   ],
   "source": [
    "from google.colab import drive\n",
    "drive.mount(\"/content/drive\")"
   ]
  },
  {
   "cell_type": "markdown",
   "metadata": {
    "id": "EdXCVMdRmyf7"
   },
   "source": [
    "Must have:\n",
    "- List of logman performance counters: `selected_counters.txt`\n",
    "- Training Dataset: `training_dataset`"
   ]
  },
  {
   "cell_type": "code",
   "execution_count": 3,
   "metadata": {
    "colab": {
     "base_uri": "https://localhost:8080/"
    },
    "executionInfo": {
     "elapsed": 1271,
     "status": "ok",
     "timestamp": 1699092558757,
     "user": {
      "displayName": "高聖傑",
      "userId": "06072156579476192158"
     },
     "user_tz": -480
    },
    "id": "H3z5BRkWm1T4",
    "outputId": "dfd8b924-cbbc-4f23-fc92-417bd8ca7a50"
   },
   "outputs": [
    {
     "name": "stdout",
     "output_type": "stream",
     "text": [
      "/content/drive/MyDrive/HPE_APO/ML Model/Training\n",
      "selected_counters.txt  training_dataset  Training.ipynb\n"
     ]
    }
   ],
   "source": [
    "%cd /content/drive/MyDrive/HPE_APO/ML\\ Model/Training\n",
    "!ls"
   ]
  },
  {
   "cell_type": "markdown",
   "metadata": {
    "id": "e0x_4difoXN-"
   },
   "source": [
    "## Prepare"
   ]
  },
  {
   "cell_type": "markdown",
   "metadata": {
    "id": "2EouWuI5oQ79"
   },
   "source": [
    "### Fix Random Seed\n",
    "\n",
    "Fix random seed for reproducibility."
   ]
  },
  {
   "cell_type": "code",
   "execution_count": 4,
   "metadata": {
    "executionInfo": {
     "elapsed": 4670,
     "status": "ok",
     "timestamp": 1698925306847,
     "user": {
      "displayName": "高聖傑",
      "userId": "06072156579476192158"
     },
     "user_tz": -480
    },
    "id": "n746xfMMoRQo"
   },
   "outputs": [],
   "source": [
    "import numpy as np\n",
    "import torch\n",
    "\n",
    "def same_seeds(seed):\n",
    "    torch.manual_seed(seed)\n",
    "    if torch.cuda.is_available():\n",
    "        torch.cuda.manual_seed(seed)\n",
    "        torch.cuda.manual_seed_all(seed)\n",
    "    np.random.seed(seed)\n",
    "    torch.backends.cudnn.benchmark = False\n",
    "    torch.backends.cudnn.deterministic = True\n",
    "\n",
    "same_seeds(0)"
   ]
  },
  {
   "cell_type": "markdown",
   "metadata": {
    "id": "Ealn-mYhn9sC"
   },
   "source": [
    "### Declare Constants"
   ]
  },
  {
   "cell_type": "code",
   "execution_count": 5,
   "metadata": {
    "executionInfo": {
     "elapsed": 3,
     "status": "ok",
     "timestamp": 1698925306847,
     "user": {
      "displayName": "高聖傑",
      "userId": "06072156579476192158"
     },
     "user_tz": -480
    },
    "id": "q8W5T-dOoD09"
   },
   "outputs": [],
   "source": [
    "N_SAMPLES = 61      # 5-min sampling duration & 5-sec sampling rate\n",
    "N_COUNTERS = 103    # Performace counters\n",
    "N_CLASSES = 6       # I/O patterns\n",
    "IOPATTERN_TO_LABEL = {\n",
    "    \"File_Server\": 0,\n",
    "    \"OLTP\": 1,\n",
    "    \"Streaming_Reads\": 2,\n",
    "    \"Streaming_Writes\": 3,\n",
    "    \"Web_Server\": 4,\n",
    "    \"Workstations\": 5,\n",
    "}"
   ]
  },
  {
   "cell_type": "markdown",
   "metadata": {
    "id": "7l3Dxc1Snxnv"
   },
   "source": [
    "## Build Dataset\n",
    "\n"
   ]
  },
  {
   "cell_type": "markdown",
   "metadata": {
    "id": "cm3ACNne4jKT"
   },
   "source": [
    "### Read Raw Data\n",
    "1. Read `csv` files, which are the profiling results from `logman`.\n",
    "    * One data instance contains 61 samples of 103 performance counters.\n",
    "        * 5-min sampling duration & 5-sec sampling rate\n",
    "2. Extract features, the performance counters we care about, within the effective duration (the effective duration in our experiment is the last 5 minutes of the profiling).\n"
   ]
  },
  {
   "cell_type": "code",
   "execution_count": 6,
   "metadata": {
    "executionInfo": {
     "elapsed": 6,
     "status": "ok",
     "timestamp": 1698925309675,
     "user": {
      "displayName": "高聖傑",
      "userId": "06072156579476192158"
     },
     "user_tz": -480
    },
    "id": "lv9qQNd2nwpJ"
   },
   "outputs": [],
   "source": [
    "import numpy as np\n",
    "import pandas as pd\n",
    "import re\n",
    "\n",
    "# Get extracted counters\n",
    "def get_counter(counter_path):\n",
    "    if not counter_path.exists:\n",
    "        raise Exception(\"counter is not found\")\n",
    "\n",
    "    with counter_path.open(\"r\") as f:\n",
    "        lines = f.readlines()\n",
    "\n",
    "    return [line.strip() for line in lines]\n",
    "\n",
    "# Rename counters, e.g., process(fio) -> process(app)\n",
    "def rename_counter(df):\n",
    "    rename_list = {}\n",
    "    for col_name in df.columns:\n",
    "        new_col_name = re.sub(\"^Process\\([\\w#]+\\)\", \"Process(app)\", col_name)\n",
    "        rename_list.update({col_name: new_col_name})\n",
    "\n",
    "    return df.rename(columns=rename_list)\n",
    "\n",
    "# Extract samples within the effective duration\n",
    "def filter_rows(df):\n",
    "    df = df[-1-N_SAMPLES:-1]\n",
    "    return df\n",
    "\n",
    "def check_format(instance, file):\n",
    "    # Check null value\n",
    "    if np.any(np.isnan(instance)):\n",
    "        raise Exception(\"instance contains null data\")\n",
    "\n",
    "    # Check the shape of instance is (N_SAMPLES, N_COUNTERS)\n",
    "    if instance.shape != (N_SAMPLES, N_COUNTERS):\n",
    "        raise Exception(\"Shape of file {} is {}.\".format(file, instance.shape))\n",
    "\n",
    "def get_instances_and_labels(data_subdir, counters):\n",
    "    if not data_subdir.exists:\n",
    "        raise Exception(\"directory not found\")\n",
    "\n",
    "    instances, labels = [], []\n",
    "\n",
    "    for file in data_subdir.iterdir():\n",
    "        # Get instance\n",
    "        df = pd.read_csv(file)\n",
    "        df = rename_counter(df)\n",
    "        df = df[counters]\n",
    "        df = filter_rows(df)\n",
    "        df = df.replace(regex=\"\\s\", value=0.0)\n",
    "        instance = df.astype(\"float\").to_numpy()\n",
    "        check_format(instance, file)\n",
    "        instances.append(instance)\n",
    "\n",
    "        # Get label\n",
    "        f_str = str(file.name)\n",
    "        groups = re.match(\"^([File_Server|OLTP|Streaming_Reads|Streaming_Writes|Web_Server|Workstations]+)_\", f_str)\n",
    "        iopattern = groups.group(1)\n",
    "        labels.append(IOPATTERN_TO_LABEL[iopattern])\n",
    "\n",
    "    return instances, labels\n",
    "\n",
    "def preprocess(data_dir, counter_path):\n",
    "    instances, labels = [], []\n",
    "\n",
    "    counters = get_counter(counter_path)\n",
    "\n",
    "    data_subdirs = [file for file in data_dir.iterdir() if file.is_dir()]\n",
    "    for data_subdir in data_subdirs:\n",
    "        new_instances, new_labels = get_instances_and_labels(data_subdir, counters)\n",
    "        instances.extend(new_instances)\n",
    "        labels.extend(new_labels)\n",
    "\n",
    "    # Convert array to numpy array\n",
    "    data = {\n",
    "        \"instances\": np.stack(instances, axis=0),\n",
    "        \"labels\": np.stack(labels, axis=0),\n",
    "    }\n",
    "\n",
    "    return data"
   ]
  },
  {
   "cell_type": "markdown",
   "metadata": {
    "id": "8U-D8-n_U5jC"
   },
   "source": [
    "Save data in Python's data structure to avoid time-consuming I/Os from reading `csv` files.\n",
    "* `cache`: directory for temporary data."
   ]
  },
  {
   "cell_type": "code",
   "execution_count": 14,
   "metadata": {
    "executionInfo": {
     "elapsed": 639,
     "status": "ok",
     "timestamp": 1698926350183,
     "user": {
      "displayName": "高聖傑",
      "userId": "06072156579476192158"
     },
     "user_tz": -480
    },
    "id": "bmCGK1TvoJ1o"
   },
   "outputs": [],
   "source": [
    "import os\n",
    "from pathlib import Path\n",
    "import pickle\n",
    "\n",
    "data_dir = Path(\"training_dataset\")\n",
    "counter_path = Path(\"selected_counters.txt\")\n",
    "cache_dir = Path(\"cache\")\n",
    "\n",
    "# If preprocessed data exists in cache folder, load it directly.\n",
    "IS_CACHED = True\n",
    "\n",
    "# Create a cache directory\n",
    "if not os.path.exists(cache_dir):\n",
    "    os.mkdir(cache_dir)\n",
    "    IS_CACHED = False\n",
    "\n",
    "# Read data\n",
    "data_cpath = cache_dir / \"data.pickle\"\n",
    "IS_CACHED = IS_CACHED and os.path.exists(data_cpath)\n",
    "if IS_CACHED:\n",
    "    with data_cpath.open(\"rb\") as f:\n",
    "        data = pickle.load(f)\n",
    "else:\n",
    "    data = preprocess(data_dir, counter_path)\n",
    "    with data_cpath.open(\"wb\") as f:\n",
    "        pickle.dump(data, f)"
   ]
  },
  {
   "cell_type": "markdown",
   "metadata": {
    "id": "ycfKNqAe51Kc"
   },
   "source": [
    "### Split Data\n",
    "\n",
    "Split the labeled data into training set and validation set.\n",
    "* Modify the variable `VAL_RATIO` to change the ratio of two sets."
   ]
  },
  {
   "cell_type": "code",
   "execution_count": 15,
   "metadata": {
    "colab": {
     "base_uri": "https://localhost:8080/"
    },
    "executionInfo": {
     "elapsed": 711,
     "status": "ok",
     "timestamp": 1698926350891,
     "user": {
      "displayName": "高聖傑",
      "userId": "06072156579476192158"
     },
     "user_tz": -480
    },
    "id": "YsHeu1La5zM6",
    "outputId": "0cc5e5a9-8909-4cfc-9be6-54096adc3172"
   },
   "outputs": [
    {
     "name": "stdout",
     "output_type": "stream",
     "text": [
      "Size of train set: (4550, 61, 103)\n",
      "Size of validation set: (506, 61, 103)\n"
     ]
    }
   ],
   "source": [
    "from sklearn.model_selection import train_test_split\n",
    "\n",
    "instances, labels = data[\"instances\"], data[\"labels\"]\n",
    "\n",
    "VAL_RATIO = 0.1\n",
    "x_train, x_val, y_train, y_val = train_test_split(instances, labels, test_size=VAL_RATIO, random_state=7)\n",
    "\n",
    "print(\"Size of train set: {}\".format(x_train.shape))\n",
    "print(\"Size of validation set: {}\".format(x_val.shape))"
   ]
  },
  {
   "cell_type": "markdown",
   "metadata": {
    "id": "WDIm8jGI5IYo"
   },
   "source": [
    "### Create Dataset"
   ]
  },
  {
   "cell_type": "code",
   "execution_count": 16,
   "metadata": {
    "colab": {
     "base_uri": "https://localhost:8080/"
    },
    "executionInfo": {
     "elapsed": 5,
     "status": "ok",
     "timestamp": 1698926352637,
     "user": {
      "displayName": "高聖傑",
      "userId": "06072156579476192158"
     },
     "user_tz": -480
    },
    "id": "G0dxe9Ps3eSC",
    "outputId": "a1098cce-6b10-4833-86f8-c6614ebc6bfc"
   },
   "outputs": [
    {
     "name": "stderr",
     "output_type": "stream",
     "text": [
      "<ipython-input-16-12be8df9a30c>:8: DeprecationWarning: `np.int` is a deprecated alias for the builtin `int`. To silence this warning, use `int` by itself. Doing this will not modify any behavior and is safe. When replacing `np.int`, you may wish to use e.g. `np.int64` or `np.int32` to specify the precision. If you wish to review your current use, check the release note link for additional information.\n",
      "Deprecated in NumPy 1.20; for more details and guidance: https://numpy.org/devdocs/release/1.20.0-notes.html#deprecations\n",
      "  label = label.astype(np.int)\n"
     ]
    }
   ],
   "source": [
    "import torch\n",
    "from torch.utils.data import Dataset\n",
    "\n",
    "class HPEAPODataset(Dataset):\n",
    "    def __init__(self, data, label=None):\n",
    "        self.data = torch.from_numpy(data).float()\n",
    "        if label is not None:\n",
    "            label = label.astype(np.int)\n",
    "            self.label = torch.LongTensor(label)\n",
    "        else:\n",
    "            self.label = None\n",
    "\n",
    "    def __getitem__(self, idx):\n",
    "        if self.label is not None:\n",
    "            return self.data[idx], self.label[idx]\n",
    "        else:\n",
    "            return self.data[idx]\n",
    "\n",
    "    def __len__(self):\n",
    "        return self.data.shape[0]\n",
    "\n",
    "train_set = HPEAPODataset(x_train, y_train)\n",
    "val_set = HPEAPODataset(x_val, y_val)"
   ]
  },
  {
   "cell_type": "markdown",
   "metadata": {
    "id": "eO-3cJoG8oyL"
   },
   "source": [
    "## Contruct Model\n",
    "\n",
    "Define model's structure.\n",
    "* Sigmoid and ReLU did not work well in this study because they brought about the vanishing gradient problem and dying ReLU problem, respectively, while the Leaky ReLU could address both problems.\n",
    "* Leaky ReLU was less popular because it was linear for negative inputs, which might perform poorly for complex classification, and it might be less efficient than Sigmoid and ReLU. Nevertheless, this study's classification task appeared not vulnerable to those two drawbacks."
   ]
  },
  {
   "cell_type": "code",
   "execution_count": null,
   "metadata": {
    "executionInfo": {
     "elapsed": 5,
     "status": "ok",
     "timestamp": 1698926354075,
     "user": {
      "displayName": "高聖傑",
      "userId": "06072156579476192158"
     },
     "user_tz": -480
    },
    "id": "WT_7BR9B9-_i"
   },
   "outputs": [],
   "source": [
    "import torch\n",
    "import torch.nn as nn\n",
    "\n",
    "class Classifier(nn.Module):\n",
    "    def __init__(self):\n",
    "        super(Classifier, self).__init__()\n",
    "        self.layer1 = nn.Linear(N_SAMPLES * N_COUNTERS, 2048)\n",
    "\n",
    "        self.layer2 = nn.Linear(2048, 512)\n",
    "        self.layer3 = nn.Linear(512, 128)\n",
    "        self.out = nn.Linear(128, N_CLASSES)\n",
    "\n",
    "        self.act_fn = nn.LeakyReLU()\n",
    "\n",
    "    def forward(self, x):\n",
    "        x = torch.flatten(x, start_dim=1)\n",
    "\n",
    "        x = self.layer1(x)\n",
    "        x = self.act_fn(x)\n",
    "\n",
    "        x = self.layer2(x)\n",
    "        x = self.act_fn(x)\n",
    "\n",
    "        x = self.layer3(x)\n",
    "        x = self.act_fn(x)\n",
    "\n",
    "        x = self.out(x)\n",
    "\n",
    "        return x\n"
   ]
  },
  {
   "cell_type": "markdown",
   "metadata": {
    "id": "tsxKfdjWPw0_"
   },
   "source": [
    "## Hyper-parameters"
   ]
  },
  {
   "cell_type": "code",
   "execution_count": 18,
   "metadata": {
    "executionInfo": {
     "elapsed": 5,
     "status": "ok",
     "timestamp": 1698926357681,
     "user": {
      "displayName": "高聖傑",
      "userId": "06072156579476192158"
     },
     "user_tz": -480
    },
    "id": "ynrvy-EnPuui"
   },
   "outputs": [],
   "source": [
    "BATCH_SIZE = 32\n",
    "NUM_EPOCH = 500\n",
    "LEARNING_RATE = 0.0001"
   ]
  },
  {
   "cell_type": "markdown",
   "metadata": {
    "id": "EsnuRPnQM5Ea"
   },
   "source": [
    "## Training"
   ]
  },
  {
   "cell_type": "code",
   "execution_count": 19,
   "metadata": {
    "colab": {
     "base_uri": "https://localhost:8080/"
    },
    "executionInfo": {
     "elapsed": 6,
     "status": "ok",
     "timestamp": 1698926358276,
     "user": {
      "displayName": "高聖傑",
      "userId": "06072156579476192158"
     },
     "user_tz": -480
    },
    "id": "dhwVZ-DmNB5z",
    "outputId": "bd5836db-5a36-489b-e6e5-e67d4581970b"
   },
   "outputs": [
    {
     "name": "stdout",
     "output_type": "stream",
     "text": [
      "DEVICE: cuda\n"
     ]
    }
   ],
   "source": [
    "# Check device\n",
    "def get_device():\n",
    "    return \"cuda\" if torch.cuda.is_available() else \"cpu\"\n",
    "\n",
    "device = get_device()\n",
    "print(f\"DEVICE: {device}\")\n",
    "\n",
    "# Build data loader from the dataset\n",
    "from torch.utils.data import DataLoader\n",
    "train_loader = DataLoader(train_set, batch_size=BATCH_SIZE, shuffle=True)\n",
    "val_loader = DataLoader(val_set, batch_size=BATCH_SIZE, shuffle=False)\n",
    "\n",
    "# Create model, and define loss function and optimizer\n",
    "model = Classifier().to(device)\n",
    "criterion = nn.CrossEntropyLoss()\n",
    "optimizer = torch.optim.Adam(model.parameters(), lr=LEARNING_RATE)\n",
    "\n",
    "# The path where checkpoint saved\n",
    "model_path = cache_dir / \"model.ckpt\""
   ]
  },
  {
   "cell_type": "code",
   "execution_count": 20,
   "metadata": {
    "colab": {
     "base_uri": "https://localhost:8080/"
    },
    "executionInfo": {
     "elapsed": 22128,
     "status": "ok",
     "timestamp": 1698926385006,
     "user": {
      "displayName": "高聖傑",
      "userId": "06072156579476192158"
     },
     "user_tz": -480
    },
    "id": "t6loP5RMNjtO",
    "outputId": "8f6e5d5c-5d4e-47c6-8e78-4fbc3e378d84"
   },
   "outputs": [
    {
     "name": "stdout",
     "output_type": "stream",
     "text": [
      "[001/020] Train Acc: 0.530989 Loss: 90847992.707605 | Val Acc: 0.545455 loss: 27603129.250000\n",
      "Saving model with acc 0.545\n",
      "[002/020] Train Acc: 0.697802 Loss: 18843686.844406 | Val Acc: 0.671937 loss: 24435069.312500\n",
      "Saving model with acc 0.672\n",
      "[003/020] Train Acc: 0.741099 Loss: 11176542.463287 | Val Acc: 0.683794 loss: 11138339.328125\n",
      "Saving model with acc 0.684\n",
      "[004/020] Train Acc: 0.737582 Loss: 12070263.562937 | Val Acc: 0.806324 loss: 5167234.218750\n",
      "Saving model with acc 0.806\n",
      "[005/020] Train Acc: 0.811209 Loss: 5226742.282343 | Val Acc: 0.747036 loss: 9208707.937500\n",
      "[006/020] Train Acc: 0.770549 Loss: 7717823.335664 | Val Acc: 0.727273 loss: 10477108.281250\n",
      "[007/020] Train Acc: 0.807473 Loss: 5967471.234266 | Val Acc: 0.766798 loss: 7021475.375000\n",
      "[008/020] Train Acc: 0.794725 Loss: 5704735.977273 | Val Acc: 0.754941 loss: 12611977.234375\n",
      "[009/020] Train Acc: 0.837143 Loss: 3580766.900350 | Val Acc: 0.851779 loss: 3419571.007812\n",
      "Saving model with acc 0.852\n",
      "[010/020] Train Acc: 0.846154 Loss: 2422774.644668 | Val Acc: 0.816206 loss: 4102715.515625\n",
      "[011/020] Train Acc: 0.851648 Loss: 2563180.114948 | Val Acc: 0.863636 loss: 3079792.257812\n",
      "Saving model with acc 0.864\n",
      "[012/020] Train Acc: 0.839121 Loss: 2493013.027535 | Val Acc: 0.877470 loss: 1910785.011719\n",
      "Saving model with acc 0.877\n",
      "[013/020] Train Acc: 0.868352 Loss: 1786440.552010 | Val Acc: 0.873518 loss: 2710079.871094\n",
      "[014/020] Train Acc: 0.861538 Loss: 1629902.689248 | Val Acc: 0.830040 loss: 2972281.023438\n",
      "[015/020] Train Acc: 0.880879 Loss: 1211665.227273 | Val Acc: 0.853755 loss: 2410585.210938\n",
      "[016/020] Train Acc: 0.878681 Loss: 1289505.230769 | Val Acc: 0.865613 loss: 2622868.054688\n",
      "[017/020] Train Acc: 0.842857 Loss: 2152747.658217 | Val Acc: 0.804348 loss: 1872580.375000\n",
      "[018/020] Train Acc: 0.846593 Loss: 1790369.151442 | Val Acc: 0.903162 loss: 660588.425781\n",
      "Saving model with acc 0.903\n",
      "[019/020] Train Acc: 0.863956 Loss: 1132096.690778 | Val Acc: 0.889328 loss: 417471.274414\n",
      "[020/020] Train Acc: 0.886154 Loss: 833475.587467 | Val Acc: 0.885375 loss: 955811.890625\n"
     ]
    }
   ],
   "source": [
    "# Start training\n",
    "best_acc = 0.0\n",
    "acc_record = {\"train\": [], \"val\": []}\n",
    "loss_record = {\"train\": [], \"val\": []}\n",
    "\n",
    "for epoch in range(NUM_EPOCH):\n",
    "    train_acc, val_acc = 0.0, 0.0\n",
    "    train_loss, val_loss = 0.0, 0.0\n",
    "\n",
    "    # Training\n",
    "    model.train() # Set the model to training mode\n",
    "    for i, data in enumerate(train_loader):\n",
    "        inputs, labels = data\n",
    "        inputs, labels = inputs.to(device), labels.to(device)\n",
    "        optimizer.zero_grad()\n",
    "        outputs = model(inputs)\n",
    "        batch_loss = criterion(outputs, labels)\n",
    "        max_outputs, train_pred = torch.max(outputs, 1) # Get the index of the class with the highest probability\n",
    "        batch_loss.backward()\n",
    "        optimizer.step()\n",
    "\n",
    "        train_acc += (train_pred.cpu() == labels.cpu()).sum().item()\n",
    "        train_loss += batch_loss.item()\n",
    "\n",
    "    # Validation\n",
    "    if len(val_set) > 0:\n",
    "        model.eval() # Set the model to evaluation mode\n",
    "        with torch.no_grad():\n",
    "            for i, data in enumerate(val_loader):\n",
    "                inputs, labels = data\n",
    "                inputs, labels = inputs.to(device), labels.to(device)\n",
    "                outputs = model(inputs)\n",
    "                batch_loss = criterion(outputs, labels)\n",
    "                _, val_pred = torch.max(outputs, 1) # Get the index of the class with the highest probability\n",
    "\n",
    "                val_acc += (val_pred.cpu() == labels.cpu()).sum().item()\n",
    "                val_loss += batch_loss.item()\n",
    "\n",
    "            print(\"[{:03d}/{:03d}] Train Acc: {:3.6f} Loss: {:3.6f} | Val Acc: {:3.6f} loss: {:3.6f}\".format(\n",
    "                epoch + 1, NUM_EPOCH,\n",
    "                train_acc/len(train_set), train_loss/len(train_loader),\n",
    "                val_acc/len(val_set), val_loss/len(val_loader)\n",
    "            ))\n",
    "\n",
    "            # If the model improves, save a checkpoint at this epoch\n",
    "            if val_acc > best_acc:\n",
    "                best_acc = val_acc\n",
    "                torch.save(model.state_dict(), model_path)\n",
    "                print(\"Saving model with acc {:.3f}\".format(best_acc/len(val_set)))\n",
    "\n",
    "            acc_record[\"train\"].append(train_acc/len(train_set))\n",
    "            acc_record[\"val\"].append(val_acc/len(val_set))\n",
    "            loss_record[\"train\"].append(train_loss/len(train_loader))\n",
    "            loss_record[\"val\"].append(val_loss/len(val_loader))\n",
    "\n",
    "    else:\n",
    "        print(\"[{:03d}/{:03d}] Train Acc: {:3.6f} Loss: {:3.6f}\".format(\n",
    "            epoch + 1, NUM_EPOCH, train_acc/len(train_set), train_loss/len(train_loader)\n",
    "        ))\n",
    "\n",
    "# If not validating, save the last epoch\n",
    "if len(val_set) == 0:\n",
    "    torch.save(model.state_dict(), model_path)\n",
    "    print(\"Saving model at last epoch\")"
   ]
  },
  {
   "cell_type": "markdown",
   "metadata": {
    "id": "VmmqIvqHR-ph"
   },
   "source": [
    "Save the record of loss and acc during training for later visualization."
   ]
  },
  {
   "cell_type": "code",
   "execution_count": 21,
   "metadata": {
    "executionInfo": {
     "elapsed": 601,
     "status": "ok",
     "timestamp": 1698926394370,
     "user": {
      "displayName": "高聖傑",
      "userId": "06072156579476192158"
     },
     "user_tz": -480
    },
    "id": "mi74WCsFOi_r"
   },
   "outputs": [],
   "source": [
    "import pickle\n",
    "\n",
    "def save_logs(loss_record, acc_record, o_dir):\n",
    "    loss_cpath, acc_cpath = o_dir / \"loss.pickle\", o_dir / \"acc.pickle\"\n",
    "\n",
    "    with loss_cpath.open(\"wb\") as f:\n",
    "        pickle.dump(loss_record, f)\n",
    "\n",
    "    with acc_cpath.open(\"wb\") as f:\n",
    "        pickle.dump(acc_record, f)\n",
    "\n",
    "save_logs(loss_record, acc_record, o_dir=cache_dir)"
   ]
  },
  {
   "cell_type": "markdown",
   "metadata": {
    "id": "VBHXOTR1PwoX"
   },
   "source": [
    "## Visualize Learning Process\n",
    "\n",
    "Plot learning curve (training & validation)."
   ]
  },
  {
   "cell_type": "code",
   "execution_count": 22,
   "metadata": {
    "executionInfo": {
     "elapsed": 3,
     "status": "ok",
     "timestamp": 1698926399425,
     "user": {
      "displayName": "高聖傑",
      "userId": "06072156579476192158"
     },
     "user_tz": -480
    },
    "id": "dEeFISKnP2z7"
   },
   "outputs": [],
   "source": [
    "import pickle\n",
    "\n",
    "def load_logs(o_dir):\n",
    "    loss_cpath, acc_cpath = o_dir / \"loss.pickle\", o_dir / \"acc.pickle\"\n",
    "\n",
    "    with loss_cpath.open(\"rb\") as f:\n",
    "        loss_record = pickle.load(f)\n",
    "\n",
    "    with acc_cpath.open(\"rb\") as f:\n",
    "        acc_record = pickle.load(f)\n",
    "\n",
    "    return loss_record, acc_record\n",
    "\n",
    "loss_record, acc_record = load_logs(o_dir=cache_dir)"
   ]
  },
  {
   "cell_type": "code",
   "execution_count": 23,
   "metadata": {
    "colab": {
     "base_uri": "https://localhost:8080/",
     "height": 927
    },
    "executionInfo": {
     "elapsed": 1139,
     "status": "ok",
     "timestamp": 1698926401589,
     "user": {
      "displayName": "高聖傑",
      "userId": "06072156579476192158"
     },
     "user_tz": -480
    },
    "id": "wYK1tz47P0S-",
    "outputId": "c18da3f2-1dc1-4753-d00e-0f4d18836fde"
   },
   "outputs": [
    {
     "data": {
      "image/png": "[encoded data removed]",
      "text/plain": [
       "<Figure size 640x480 with 1 Axes>"
      ]
     },
     "metadata": {},
     "output_type": "display_data"
    },
    {
     "data": {
      "image/png": "[encoded data removed]",
      "text/plain": [
       "<Figure size 640x480 with 1 Axes>"
      ]
     },
     "metadata": {},
     "output_type": "display_data"
    }
   ],
   "source": [
    "import matplotlib.pyplot as plt\n",
    "\n",
    "def plot_learning_curve(record, title=\"\", ylabel=\"\", img=\"\"):\n",
    "    # Set figure properties\n",
    "    plt.title(\"Learning Curve of {}\".format(title))\n",
    "\n",
    "    # Set x-axis properties\n",
    "    plt.xlabel(\"Training Steps\")\n",
    "    total_steps = len(loss_record[\"train\"])\n",
    "    x = range(total_steps)\n",
    "\n",
    "    # Set y-axis properties\n",
    "    plt.ylabel(ylabel)\n",
    "    if img == \"loss\":\n",
    "        plt.ylim([0, record[\"train\"][1]])\n",
    "    elif img == \"acc\":\n",
    "        # probability to percentage\n",
    "        record = {\n",
    "            \"train\": list(map(lambda x: x * 100, record[\"train\"])),\n",
    "            \"val\": list(map(lambda x: x * 100, record[\"val\"])),\n",
    "        }\n",
    "        plt.ylim([0, 100])\n",
    "\n",
    "    # Plot the data\n",
    "    plt.plot(x, record[\"train\"], c=\"tab:red\", label=\"Train\", alpha=0.6)\n",
    "    plt.plot(x, record[\"val\"], c=\"tab:cyan\", label=\"Validation\", alpha=0.6)\n",
    "\n",
    "    # Draw the figure\n",
    "    plt.legend()\n",
    "    plt.show()\n",
    "\n",
    "plot_learning_curve(loss_record, title=\"Loss\", ylabel=\"Cross Entropy Loss\", img=\"loss\")\n",
    "plot_learning_curve(acc_record, title=\"Accuracy\", ylabel=\"Accuracy (%)\", img=\"acc\")"
   ]
  },
  {
   "cell_type": "markdown",
   "metadata": {
    "id": "aW_wqyNOA5Jo"
   },
   "source": [
    "## Fine-Tune Model\n",
    "\n",
    "Load the model from previous checkpoint and fine-tune it."
   ]
  },
  {
   "cell_type": "code",
   "execution_count": 24,
   "metadata": {
    "colab": {
     "base_uri": "https://localhost:8080/"
    },
    "executionInfo": {
     "elapsed": 5,
     "status": "ok",
     "timestamp": 1698926433234,
     "user": {
      "displayName": "高聖傑",
      "userId": "06072156579476192158"
     },
     "user_tz": -480
    },
    "id": "C-y7BwcnA4CM",
    "outputId": "cbbb5aa6-a21f-452f-eb38-41ce708a7f40"
   },
   "outputs": [
    {
     "name": "stdout",
     "output_type": "stream",
     "text": [
      "DEVICE: cuda\n"
     ]
    }
   ],
   "source": [
    "# Check device\n",
    "def get_device():\n",
    "    return \"cuda\" if torch.cuda.is_available() else \"cpu\"\n",
    "\n",
    "device = get_device()\n",
    "print(f\"DEVICE: {device}\")\n",
    "\n",
    "# hyper-parameters\n",
    "num_epoch = 200\n",
    "learning_rate = 0.0001\n",
    "\n",
    "# The path where checkpoint saved\n",
    "model_path = cache_dir / \"model.ckpt\"\n",
    "\n",
    "# Create model and load weights from checkpoint\n",
    "model = Classifier().to(device)\n",
    "model.load_state_dict(torch.load(model_path))\n",
    "criterion = nn.CrossEntropyLoss()\n",
    "optimizer = torch.optim.Adam(model.parameters(), lr=learning_rate)"
   ]
  },
  {
   "cell_type": "code",
   "execution_count": 25,
   "metadata": {
    "colab": {
     "base_uri": "https://localhost:8080/"
    },
    "executionInfo": {
     "elapsed": 11690,
     "status": "ok",
     "timestamp": 1698926447777,
     "user": {
      "displayName": "高聖傑",
      "userId": "06072156579476192158"
     },
     "user_tz": -480
    },
    "id": "zdtJxfdZBeCQ",
    "outputId": "22f06eaf-09f6-4624-f67a-fa384b051b1b"
   },
   "outputs": [
    {
     "name": "stdout",
     "output_type": "stream",
     "text": [
      "[001/010] Train Acc: 0.793846 Loss: 3547697.233392 | Val Acc: 0.626482 loss: 7445714.718750\n",
      "Saving model with acc 0.626\n",
      "[002/010] Train Acc: 0.801538 Loss: 2504194.411058 | Val Acc: 0.745059 loss: 7385966.765625\n",
      "Saving model with acc 0.745\n",
      "[003/010] Train Acc: 0.816703 Loss: 2160460.723121 | Val Acc: 0.845850 loss: 1197783.878906\n",
      "Saving model with acc 0.846\n",
      "[004/010] Train Acc: 0.832527 Loss: 1345708.781359 | Val Acc: 0.707510 loss: 3291095.867188\n",
      "[005/010] Train Acc: 0.870330 Loss: 899326.117788 | Val Acc: 0.869565 loss: 971470.574219\n",
      "Saving model with acc 0.870\n",
      "[006/010] Train Acc: 0.895165 Loss: 398186.185533 | Val Acc: 0.851779 loss: 689435.479492\n",
      "[007/010] Train Acc: 0.894286 Loss: 292506.715035 | Val Acc: 0.814229 loss: 488928.632812\n",
      "[008/010] Train Acc: 0.869670 Loss: 471206.827142 | Val Acc: 0.895257 loss: 411868.892578\n",
      "Saving model with acc 0.895\n",
      "[009/010] Train Acc: 0.860659 Loss: 647395.505955 | Val Acc: 0.901186 loss: 263206.457031\n",
      "Saving model with acc 0.901\n",
      "[010/010] Train Acc: 0.867473 Loss: 481274.712631 | Val Acc: 0.865613 loss: 466406.347656\n"
     ]
    }
   ],
   "source": [
    "# Start fine-tuning\n",
    "\n",
    "best_acc = 0.0\n",
    "loss_record = {\"train\": [], \"val\": []}\n",
    "acc_record = {\"train\": [], \"val\": []}\n",
    "for epoch in range(num_epoch):\n",
    "    train_acc, val_acc = 0.0, 0.0\n",
    "    train_loss, val_loss = 0.0, 0.0\n",
    "\n",
    "    # Training\n",
    "    model.train() # Set the model to training mode\n",
    "    for i, data in enumerate(train_loader):\n",
    "        inputs, labels = data\n",
    "        inputs, labels = inputs.to(device), labels.to(device)\n",
    "        optimizer.zero_grad()\n",
    "        outputs = model(inputs)\n",
    "        batch_loss = criterion(outputs, labels)\n",
    "        _, train_pred = torch.max(outputs, 1) # Get the index of the class with the highest probability\n",
    "        batch_loss.backward()\n",
    "        optimizer.step()\n",
    "\n",
    "        train_acc += (train_pred.cpu() == labels.cpu()).sum().item()\n",
    "        train_loss += batch_loss.item()\n",
    "\n",
    "    # Validation\n",
    "    if len(val_set) > 0:\n",
    "        model.eval() # Set the model to evaluation mode\n",
    "        with torch.no_grad():\n",
    "            for i, data in enumerate(val_loader):\n",
    "                inputs, labels = data\n",
    "                inputs, labels = inputs.to(device), labels.to(device)\n",
    "                outputs = model(inputs)\n",
    "                batch_loss = criterion(outputs, labels)\n",
    "                _, val_pred = torch.max(outputs, 1)  # Get the index of the class with the highest probability\n",
    "\n",
    "                val_acc += (val_pred.cpu() == labels.cpu()).sum().item()\n",
    "                val_loss += batch_loss.item()\n",
    "\n",
    "            print(\"[{:03d}/{:03d}] Train Acc: {:3.6f} Loss: {:3.6f} | Val Acc: {:3.6f} loss: {:3.6f}\".format(\n",
    "                epoch + 1, num_epoch,\n",
    "                train_acc/len(train_set), train_loss/len(train_loader),\n",
    "                val_acc/len(val_set), val_loss/len(val_loader)\n",
    "            ))\n",
    "\n",
    "            # If the model improves, save a checkpoint at this epoch\n",
    "            if val_acc > best_acc:\n",
    "                best_acc = val_acc\n",
    "                torch.save(model.state_dict(), model_path)\n",
    "                print(\"Saving model with acc {:.3f}\".format(best_acc/len(val_set)))\n",
    "\n",
    "            acc_record[\"train\"].append(train_acc/len(train_set))\n",
    "            acc_record[\"val\"].append(val_acc/len(val_set))\n",
    "            loss_record[\"train\"].append(train_loss/len(train_loader))\n",
    "            loss_record[\"val\"].append(val_loss/len(val_loader))\n",
    "    else:\n",
    "        print(\"[{:03d}/{:03d}] Train Acc: {:3.6f} Loss: {:3.6f}\".format(\n",
    "            epoch + 1, num_epoch, train_acc/len(train_set), train_loss/len(train_loader)\n",
    "        ))\n",
    "\n",
    "# If not validating, save the last epoch\n",
    "if len(val_set) == 0:\n",
    "    torch.save(model.state_dict(), model_path)\n",
    "    print(\"Saving model at last epoch\")"
   ]
  },
  {
   "cell_type": "markdown",
   "metadata": {
    "id": "-RYsusovdjKO"
   },
   "source": [
    "## Reproduce Result\n",
    "\n",
    "Check model's performance with validation data."
   ]
  },
  {
   "cell_type": "code",
   "execution_count": 26,
   "metadata": {
    "colab": {
     "base_uri": "https://localhost:8080/"
    },
    "executionInfo": {
     "elapsed": 824,
     "status": "ok",
     "timestamp": 1698926489655,
     "user": {
      "displayName": "高聖傑",
      "userId": "06072156579476192158"
     },
     "user_tz": -480
    },
    "id": "ro9Mhp2HeOlC",
    "outputId": "b69cf649-40ff-4fef-f586-2231454a125d"
   },
   "outputs": [
    {
     "name": "stdout",
     "output_type": "stream",
     "text": [
      "DEVICE: cuda\n"
     ]
    }
   ],
   "source": [
    "# Check device\n",
    "def get_device():\n",
    "    return \"cuda\" if torch.cuda.is_available() else \"cpu\"\n",
    "\n",
    "device = get_device()\n",
    "print(f\"DEVICE: {device}\")\n",
    "\n",
    "# The path where checkpoint saved\n",
    "model_path = cache_dir / \"model.ckpt\"\n",
    "\n",
    "# Create model and load weights from checkpoint\n",
    "model = Classifier().to(device)\n",
    "model.load_state_dict(torch.load(model_path))\n",
    "criterion = nn.CrossEntropyLoss()"
   ]
  },
  {
   "cell_type": "code",
   "execution_count": 27,
   "metadata": {
    "colab": {
     "base_uri": "https://localhost:8080/"
    },
    "executionInfo": {
     "elapsed": 3,
     "status": "ok",
     "timestamp": 1698926491187,
     "user": {
      "displayName": "高聖傑",
      "userId": "06072156579476192158"
     },
     "user_tz": -480
    },
    "id": "3KfI4Ot3dlUH",
    "outputId": "656ab9e2-295d-497f-d0ec-4e62afe1c9d9"
   },
   "outputs": [
    {
     "name": "stdout",
     "output_type": "stream",
     "text": [
      "Val Acc: 0.901186, Val Loss: 263206.457031\n"
     ]
    }
   ],
   "source": [
    "model.eval() # Set the model to evaluation mode\n",
    "with torch.no_grad():\n",
    "    val_loss, val_acc = 0.0, 0.0\n",
    "\n",
    "    for i, data in enumerate(val_loader):\n",
    "        inputs, labels = data\n",
    "        inputs, labels = inputs.to(device), labels.to(device)\n",
    "        outputs = model(inputs)\n",
    "        batch_loss = criterion(outputs, labels)\n",
    "        max_value, val_pred = torch.max(outputs, 1) # Get the index of the class with the highest probability\n",
    "\n",
    "        val_acc += (val_pred.cpu() == labels.cpu()).sum().item()\n",
    "        val_loss += batch_loss.item()\n",
    "\n",
    "    print(\"Val Acc: {:3.6f}, Val Loss: {:3.6f}\".format(\n",
    "        val_acc/len(val_set), val_loss/len(val_loader)\n",
    "    ))"
   ]
  },
  {
   "cell_type": "markdown",
   "metadata": {
    "id": "XyAubpWKcf19"
   },
   "source": [
    "## Extract Activation Scores\n",
    "\n",
    "Get activation scores from correctly classified training samples.\n",
    "* Using the evaluation mode because we don't want to train model.\n",
    "\n",
    "The model will leverage activation scores to reject unknown-I/O-pattern in testing (inference) time."
   ]
  },
  {
   "cell_type": "code",
   "execution_count": 28,
   "metadata": {
    "colab": {
     "base_uri": "https://localhost:8080/"
    },
    "executionInfo": {
     "elapsed": 1062,
     "status": "ok",
     "timestamp": 1698926505391,
     "user": {
      "displayName": "高聖傑",
      "userId": "06072156579476192158"
     },
     "user_tz": -480
    },
    "id": "XCi_mb6SPoBh",
    "outputId": "daf8af3e-b3f7-4fd1-a581-6442e50abbf2"
   },
   "outputs": [
    {
     "name": "stdout",
     "output_type": "stream",
     "text": [
      "DEVICE: cuda\n"
     ]
    }
   ],
   "source": [
    "# Check device\n",
    "def get_device():\n",
    "    return \"cuda\" if torch.cuda.is_available() else \"cpu\"\n",
    "\n",
    "device = get_device()\n",
    "print(f\"DEVICE: {device}\")\n",
    "\n",
    "# The path where checkpoint saved\n",
    "model_path = cache_dir / \"model.ckpt\"\n",
    "\n",
    "# Create model and load weights from checkpoint\n",
    "model = Classifier().to(device)\n",
    "model.load_state_dict(torch.load(model_path))\n",
    "criterion = nn.CrossEntropyLoss()"
   ]
  },
  {
   "cell_type": "code",
   "execution_count": 29,
   "metadata": {
    "executionInfo": {
     "elapsed": 1023,
     "status": "ok",
     "timestamp": 1698926506952,
     "user": {
      "displayName": "高聖傑",
      "userId": "06072156579476192158"
     },
     "user_tz": -480
    },
    "id": "7XyY1bVBPXre"
   },
   "outputs": [],
   "source": [
    "activation_scores = [[] for i in range(N_CLASSES)]\n",
    "\n",
    "# Set the model to evaluation mode\n",
    "model.eval()\n",
    "with torch.no_grad():\n",
    "\n",
    "    for i, data in enumerate(train_loader):\n",
    "        inputs, labels = data\n",
    "        inputs, labels = inputs.to(device), labels.to(device)\n",
    "        outputs = model(inputs)\n",
    "        _, train_pred = torch.max(outputs, 1)\n",
    "\n",
    "        # Get activation score\n",
    "        preds, labels = train_pred.cpu().tolist(), labels.cpu().tolist()\n",
    "        outputs = outputs.cpu().tolist()\n",
    "        for pred, label, output in zip(preds, labels, outputs):\n",
    "            if pred == label:\n",
    "                for i in range(N_CLASSES):\n",
    "                    activation_scores[i].append(output[i])"
   ]
  },
  {
   "cell_type": "code",
   "execution_count": 30,
   "metadata": {
    "executionInfo": {
     "elapsed": 4,
     "status": "ok",
     "timestamp": 1698926550883,
     "user": {
      "displayName": "高聖傑",
      "userId": "06072156579476192158"
     },
     "user_tz": -480
    },
    "id": "1nI_GF_zVNHJ"
   },
   "outputs": [],
   "source": [
    "import pickle\n",
    "\n",
    "def save_activation_scores(activation_scores, o_path):\n",
    "    with o_path.open(\"wb\") as f:\n",
    "        pickle.dump(activation_scores, f)\n",
    "\n",
    "as_path = cache_dir / \"activation_score.pickle\"\n",
    "save_activation_scores(activation_scores, o_path=as_path)"
   ]
  }
 ],
 "metadata": {
  "accelerator": "GPU",
  "colab": {
   "provenance": [
    {
     "file_id": "12y1nT_AiiHLYi6b6koCwfmu9z1FbJFiS",
     "timestamp": 1698922052177
    }
   ],
   "toc_visible": true
  },
  "kernelspec": {
   "display_name": "Python 3",
   "name": "python3"
  },
  "language_info": {
   "name": "python"
  }
 },
 "nbformat": 4,
 "nbformat_minor": 0
}
